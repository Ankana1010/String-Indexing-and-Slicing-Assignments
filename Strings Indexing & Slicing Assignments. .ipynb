{
 "cells": [
  {
   "cell_type": "markdown",
   "id": "5dc6708a-b58d-494e-8451-441d667ed4eb",
   "metadata": {},
   "source": [
    "1. In a string enclosed with single quotes ', we can use double quotes \" directly in the code. However, for single quotes ' it needs to be escaped with a backslash, i.e.: \\'. The example is as follows - "
   ]
  },
  {
   "cell_type": "code",
   "execution_count": 1,
   "id": "106a7412-506f-480d-bbd9-2ea8a4b9207c",
   "metadata": {},
   "outputs": [],
   "source": [
    "X = 'a\\'b\"c'"
   ]
  },
  {
   "cell_type": "code",
   "execution_count": 3,
   "id": "ff623988-8935-454c-8bcd-09e84858d0d3",
   "metadata": {},
   "outputs": [
    {
     "name": "stdout",
     "output_type": "stream",
     "text": [
      "a'b\"c\n"
     ]
    }
   ],
   "source": [
    "print(X)"
   ]
  },
  {
   "cell_type": "code",
   "execution_count": 4,
   "id": "e4ed87cd-7576-45e1-b334-e47b297ced8f",
   "metadata": {},
   "outputs": [],
   "source": [
    "W = 'x\\'y\\\"z'"
   ]
  },
  {
   "cell_type": "code",
   "execution_count": 5,
   "id": "3dbc2f39-809b-4599-bb48-434c1be1cd40",
   "metadata": {},
   "outputs": [
    {
     "name": "stdout",
     "output_type": "stream",
     "text": [
      "x'y\"z\n"
     ]
    }
   ],
   "source": [
    "print(W)"
   ]
  },
  {
   "cell_type": "markdown",
   "id": "38e820e0-5298-4207-be4f-7ece1b9770a3",
   "metadata": {},
   "source": [
    "2. x a is string type variable. To support my answer I've the following explanation:- "
   ]
  },
  {
   "cell_type": "code",
   "execution_count": 6,
   "id": "629b2abc-3ec5-4cfa-9245-7bb8ab1521f4",
   "metadata": {},
   "outputs": [],
   "source": [
    "x = 'a'"
   ]
  },
  {
   "cell_type": "code",
   "execution_count": 10,
   "id": "71909f94-95ba-4802-94ec-159f506be7d3",
   "metadata": {},
   "outputs": [
    {
     "data": {
      "text/plain": [
       "str"
      ]
     },
     "execution_count": 10,
     "metadata": {},
     "output_type": "execute_result"
    }
   ],
   "source": [
    "type(x)"
   ]
  },
  {
   "cell_type": "markdown",
   "id": "f0414104-0a67-4dab-b3ce-3e210596bf31",
   "metadata": {},
   "source": [
    "3. The Answer is as follows -"
   ]
  },
  {
   "cell_type": "code",
   "execution_count": 26,
   "id": "2874c93d-1cc5-4bea-b884-41f6b617775b",
   "metadata": {},
   "outputs": [],
   "source": [
    "X ='Welcome to Python foundation course'"
   ]
  },
  {
   "cell_type": "code",
   "execution_count": 27,
   "id": "fbb81040-a70d-4bcc-8d0f-d757e13e41ee",
   "metadata": {},
   "outputs": [
    {
     "data": {
      "text/plain": [
       "4"
      ]
     },
     "execution_count": 27,
     "metadata": {},
     "output_type": "execute_result"
    }
   ],
   "source": [
    "X.find('o')"
   ]
  },
  {
   "cell_type": "code",
   "execution_count": 28,
   "id": "437b18c8-53c3-4f0b-b8f9-b1fc6398ea7f",
   "metadata": {},
   "outputs": [
    {
     "data": {
      "text/plain": [
       "6"
      ]
     },
     "execution_count": 28,
     "metadata": {},
     "output_type": "execute_result"
    }
   ],
   "source": [
    "X.count('o')"
   ]
  },
  {
   "cell_type": "code",
   "execution_count": 69,
   "id": "1203451c-3206-421a-a193-3c955fa9dbac",
   "metadata": {},
   "outputs": [
    {
     "data": {
      "text/plain": [
       "35"
      ]
     },
     "execution_count": 69,
     "metadata": {},
     "output_type": "execute_result"
    }
   ],
   "source": [
    "len(X)"
   ]
  },
  {
   "cell_type": "code",
   "execution_count": 70,
   "id": "cec1d05a-6915-4d72-8ba9-cc5a15f41346",
   "metadata": {},
   "outputs": [],
   "source": [
    "x = \"Python \""
   ]
  },
  {
   "cell_type": "code",
   "execution_count": 71,
   "id": "695695e0-67c3-4f28-95a3-1c9c76423334",
   "metadata": {},
   "outputs": [],
   "source": [
    "y = \"is \""
   ]
  },
  {
   "cell_type": "code",
   "execution_count": 78,
   "id": "0e81a338-7a15-45e4-8f2c-158099f4ac71",
   "metadata": {},
   "outputs": [],
   "source": [
    "z = \"fantastic\""
   ]
  },
  {
   "cell_type": "code",
   "execution_count": 81,
   "id": "93660526-48bc-45bd-bd20-b77e5011a899",
   "metadata": {},
   "outputs": [
    {
     "name": "stdout",
     "output_type": "stream",
     "text": [
      "Python is fantastic\n"
     ]
    }
   ],
   "source": [
    "print(x + y + z)"
   ]
  },
  {
   "cell_type": "markdown",
   "id": "3b5fe245-069a-43ad-939b-de02a62fbc69",
   "metadata": {},
   "source": [
    "4. The Answer is as follows -"
   ]
  },
  {
   "cell_type": "code",
   "execution_count": 130,
   "id": "61a52b14-3936-483b-833a-7a4d53db3046",
   "metadata": {},
   "outputs": [],
   "source": [
    "word = 'PanaJi@12256'"
   ]
  },
  {
   "cell_type": "code",
   "execution_count": 131,
   "id": "3efa9c9f-7cf5-4cbf-9c0d-cd672447f056",
   "metadata": {},
   "outputs": [],
   "source": [
    "uppercase = 0"
   ]
  },
  {
   "cell_type": "code",
   "execution_count": 132,
   "id": "87c01e1a-cce0-4bfa-b748-473fd7198f93",
   "metadata": {},
   "outputs": [],
   "source": [
    "lowercase = 0"
   ]
  },
  {
   "cell_type": "code",
   "execution_count": 133,
   "id": "6978e2fa-94f7-44a7-8245-b5fa77bba8c2",
   "metadata": {},
   "outputs": [],
   "source": [
    "numbers = 0"
   ]
  },
  {
   "cell_type": "code",
   "execution_count": 134,
   "id": "d88327f3-218d-44ec-bbaf-639b82fdaed8",
   "metadata": {},
   "outputs": [],
   "source": [
    "for i in word:\n",
    "    if i.isupper():\n",
    "        uppercase = uppercase + 1\n",
    "    elif i.islower():\n",
    "        lowercase = lowercase + 1\n",
    "    elif i.isdigit():\n",
    "        numbers = numbers + 1"
   ]
  },
  {
   "cell_type": "code",
   "execution_count": 135,
   "id": "85d0d27f-8218-43bd-a67f-1eb5c249e34d",
   "metadata": {},
   "outputs": [
    {
     "name": "stdout",
     "output_type": "stream",
     "text": [
      "Total number of alphabets in lowercase = 2\n",
      "Total number of alphabets in uppercase = 4\n",
      "Total number of numbers in string = 5\n"
     ]
    }
   ],
   "source": [
    "print(\"Total number of alphabets in lowercase =\", uppercase)\n",
    "print(\"Total number of alphabets in uppercase =\", lowercase)\n",
    "print(\"Total number of numbers in string =\", numbers)"
   ]
  },
  {
   "cell_type": "markdown",
   "id": "0a97f4fa-57fd-408c-b7fc-9e7bf1a02fc9",
   "metadata": {},
   "source": [
    "5. A code to store a numerical value inside a variable then converting it into string in python is as follows - "
   ]
  },
  {
   "cell_type": "code",
   "execution_count": 139,
   "id": "e15bf70c-275b-4c95-94d4-3854bda724c0",
   "metadata": {},
   "outputs": [],
   "source": [
    "num = 10\""
   ]
  },
  {
   "cell_type": "code",
   "execution_count": 140,
   "id": "23b27a70-ee4d-41f0-a154-ec8dd5924efc",
   "metadata": {},
   "outputs": [
    {
     "name": "stdout",
     "output_type": "stream",
     "text": [
      "Type of variable before conversion :  <class 'str'>\n"
     ]
    }
   ],
   "source": [
    "print(\"Type of variable before conversion : \", type(num))"
   ]
  },
  {
   "cell_type": "code",
   "execution_count": 141,
   "id": "0b9a6046-faa8-4432-a7ac-a2b09215e3fa",
   "metadata": {},
   "outputs": [],
   "source": [
    "converted_num = str(num)"
   ]
  },
  {
   "cell_type": "code",
   "execution_count": 142,
   "id": "3e465764-1c40-4e9b-b5bd-06a86bc4b9c7",
   "metadata": {},
   "outputs": [
    {
     "name": "stdout",
     "output_type": "stream",
     "text": [
      "Type After conversion :  <class 'str'>\n"
     ]
    }
   ],
   "source": [
    "print(\"Type After conversion : \",type(converted_num))"
   ]
  },
  {
   "cell_type": "code",
   "execution_count": null,
   "id": "c6b1f520-0d11-48a1-8903-af2205cd87f6",
   "metadata": {},
   "outputs": [],
   "source": []
  }
 ],
 "metadata": {
  "kernelspec": {
   "display_name": "Python 3 (ipykernel)",
   "language": "python",
   "name": "python3"
  },
  "language_info": {
   "codemirror_mode": {
    "name": "ipython",
    "version": 3
   },
   "file_extension": ".py",
   "mimetype": "text/x-python",
   "name": "python",
   "nbconvert_exporter": "python",
   "pygments_lexer": "ipython3",
   "version": "3.10.8"
  }
 },
 "nbformat": 4,
 "nbformat_minor": 5
}
